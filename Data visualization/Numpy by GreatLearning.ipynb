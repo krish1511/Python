{
 "cells": [
  {
   "cell_type": "markdown",
   "metadata": {},
   "source": [
    "# NumPy\n",
    "\n",
    "numpy is python's package for doing math that is more advanced than +-*/\n",
    "\n",
    "This includes special functions like cosine, exponential, sqrt, ...\n",
    "\n",
    "On top of this we can use numpy to generate samples from many types of random variables\n",
    "\n",
    "numpy also has a powerful data type to define vectors, matrices, and tensors\n",
    "\n",
    "With these data types numpy also allows us to do linear algebra - matrix multiplication and matrix-vector solutions"
   ]
  },
  {
   "cell_type": "code",
   "execution_count": 1,
   "metadata": {},
   "outputs": [],
   "source": [
    "# the first step of using numpy is to tell python to use it\n",
    "import numpy as np"
   ]
  },
  {
   "cell_type": "code",
   "execution_count": 35,
   "metadata": {},
   "outputs": [
    {
     "name": "stdout",
     "output_type": "stream",
     "text": [
      "-1.0\n",
      "1.1\n",
      "5.2\n"
     ]
    }
   ],
   "source": [
    "print(np.cos(np.pi))\n",
    "print(np.sqrt(1.21))\n",
    "print(np.log(np.exp(5.2)))"
   ]
  },
  {
   "cell_type": "code",
   "execution_count": 3,
   "metadata": {},
   "outputs": [
    {
     "name": "stdout",
     "output_type": "stream",
     "text": [
      "[1 2 3]\n",
      "\n",
      "[[1 2 1]\n",
      " [4 5 9]\n",
      " [1 8 9]]\n",
      "\n",
      "[[1 4 1]\n",
      " [2 5 8]\n",
      " [1 9 9]]\n"
     ]
    }
   ],
   "source": [
    "# we can create numpy arrays by converting lists\n",
    "# this is a vector\n",
    "vec = np.array([1,2,3])\n",
    "print(vec)\n",
    "# we can create matrices by converting lists of lists\n",
    "mat = np.array([[1,2,1],[4,5,9],[1,8,9]])\n",
    "print('')\n",
    "print(mat)\n",
    "print('')\n",
    "print(mat.T)"
   ]
  },
  {
   "cell_type": "code",
   "execution_count": 4,
   "metadata": {},
   "outputs": [
    {
     "name": "stdout",
     "output_type": "stream",
     "text": [
      "[ 0  1  2  3  4  5  6  7  8  9 10 11 12 13 14]\n",
      "\n",
      "[ 3  9 15]\n"
     ]
    }
   ],
   "source": [
    "# there are lots of other ways to create numpy arrays\n",
    "vec2 = np.arange(0,15)\n",
    "print(vec2)\n",
    "print('')\n",
    "vec3 = np.arange(3,21,6)\n",
    "print(vec3)\n"
   ]
  },
  {
   "cell_type": "code",
   "execution_count": 5,
   "metadata": {},
   "outputs": [
    {
     "name": "stdout",
     "output_type": "stream",
     "text": [
      "[0.         0.55555556 1.11111111 1.66666667 2.22222222 2.77777778\n",
      " 3.33333333 3.88888889 4.44444444 5.        ]\n",
      "\n",
      "[[0.         0.55555556]\n",
      " [1.11111111 1.66666667]\n",
      " [2.22222222 2.77777778]\n",
      " [3.33333333 3.88888889]\n",
      " [4.44444444 5.        ]]\n",
      "[[0.         0.55555556]\n",
      " [1.11111111 1.66666667]\n",
      " [2.22222222 2.77777778]\n",
      " [3.33333333 3.88888889]\n",
      " [4.44444444 5.        ]]\n",
      "[0.         0.55555556 1.11111111 1.66666667 2.22222222 2.77777778\n",
      " 3.33333333 3.88888889 4.44444444 5.        ]\n"
     ]
    }
   ],
   "source": [
    "\n",
    "vec4 = np.linspace(0,5,10)\n",
    "print(vec4)\n",
    "print('')\n",
    "print(vec4.reshape(5,2))\n",
    "vec4_reshaped = vec4.reshape(5,2)\n",
    "print(vec4_reshaped)\n",
    "print(vec4)"
   ]
  },
  {
   "cell_type": "code",
   "execution_count": 6,
   "metadata": {},
   "outputs": [
    {
     "name": "stdout",
     "output_type": "stream",
     "text": [
      "[[0. 0. 0.]\n",
      " [0. 0. 0.]\n",
      " [0. 0. 0.]\n",
      " [0. 0. 0.]\n",
      " [0. 0. 0.]]\n",
      "\n",
      "[[1. 1. 1. 1. 1.]\n",
      " [1. 1. 1. 1. 1.]\n",
      " [1. 1. 1. 1. 1.]]\n",
      "\n",
      "[[1. 0. 0. 0. 0.]\n",
      " [0. 1. 0. 0. 0.]\n",
      " [0. 0. 1. 0. 0.]\n",
      " [0. 0. 0. 1. 0.]\n",
      " [0. 0. 0. 0. 1.]]\n"
     ]
    }
   ],
   "source": [
    "mat2 = np.zeros([5,3])\n",
    "print(mat2)\n",
    "mat3 = np.ones((3,5))\n",
    "print('')\n",
    "print(mat3)\n",
    "mat4 = np.eye(5)\n",
    "print('')\n",
    "print(mat4)"
   ]
  },
  {
   "cell_type": "code",
   "execution_count": 7,
   "metadata": {},
   "outputs": [
    {
     "name": "stdout",
     "output_type": "stream",
     "text": [
      "[1 2 3 4 5]\n",
      "[3 4 5 6 7]\n",
      "[ 4  6  8 10 12]\n",
      "[ 3  8 15 24 35]\n",
      "[1.         0.5        0.33333333 0.25       0.2       ]\n",
      "[1.73205081 2.         2.23606798 2.44948974 2.64575131]\n"
     ]
    }
   ],
   "source": [
    "# we can +-*/ arrays together if they're the right size\n",
    "vec5 = np.arange(1,6)\n",
    "vec6 = np.arange(3,8)\n",
    "print(vec5)\n",
    "print(vec6)\n",
    "print(vec5+vec6)\n",
    "print(vec5*vec6)\n",
    "print(1/vec5)\n",
    "print(np.sqrt(vec6))"
   ]
  },
  {
   "cell_type": "code",
   "execution_count": 8,
   "metadata": {},
   "outputs": [
    {
     "name": "stdout",
     "output_type": "stream",
     "text": [
      "[[1 2 1]\n",
      " [4 5 9]\n",
      " [1 8 9]]\n",
      "\n",
      "[1 2 3]\n",
      "\n",
      "[ 8 41 44]\n"
     ]
    }
   ],
   "source": [
    "# we can do matrix multiplication\n",
    "print(mat)\n",
    "print('')\n",
    "print(vec)\n",
    "print()\n",
    "product = np.matmul(mat,vec)\n",
    "print(product)"
   ]
  },
  {
   "cell_type": "code",
   "execution_count": 9,
   "metadata": {},
   "outputs": [
    {
     "name": "stdout",
     "output_type": "stream",
     "text": [
      "[1. 2. 3.]\n",
      "\n",
      "[[ 0.5         0.18518519 -0.24074074]\n",
      " [ 0.5        -0.14814815  0.09259259]\n",
      " [-0.5         0.11111111  0.05555556]]\n"
     ]
    }
   ],
   "source": [
    "print(np.linalg.solve(mat,product))\n",
    "print('')\n",
    "print(np.linalg.inv(mat)) # inverse matrix"
   ]
  },
  {
   "cell_type": "code",
   "execution_count": 10,
   "metadata": {},
   "outputs": [
    {
     "name": "stdout",
     "output_type": "stream",
     "text": [
      "['blue' 'red' 'orange' 'purple' 'purple' 'orange' 'Red' '6']\n",
      "['6' 'Red' 'blue' 'orange' 'purple' 'red']\n"
     ]
    }
   ],
   "source": [
    "# we can find the unique values in an array\n",
    "vec7 = np.array(['blue','red','orange','purple','purple','orange','Red',6])\n",
    "print(vec7)\n",
    "print(np.unique(vec7))"
   ]
  },
  {
   "cell_type": "code",
   "execution_count": 11,
   "metadata": {},
   "outputs": [
    {
     "name": "stdout",
     "output_type": "stream",
     "text": [
      "[[0.78809289 0.87579924 0.67586237 0.58043873 0.37315926]\n",
      " [0.11495398 0.92812107 0.179463   0.53503292 0.5548553 ]\n",
      " [0.8411191  0.19365611 0.21811979 0.53354788 0.64405659]\n",
      " [0.38166248 0.85474716 0.47129516 0.92783501 0.03005559]\n",
      " [0.45346504 0.43183663 0.36883151 0.58952815 0.99136088]]\n",
      "\n",
      "[[ 0.79652568  0.43967293  1.5549618  -0.47370131  0.63688937]\n",
      " [-0.46110144 -1.25278956  1.7677119   0.06974586 -0.05589221]\n",
      " [ 1.13044458  1.82070514  0.07539993 -0.86521152  2.17319262]\n",
      " [ 0.67541238  0.76039766 -0.65277875 -1.65238475  0.1471629 ]\n",
      " [-0.21691626 -1.01671555 -0.0096981   0.3469085   1.63743204]\n",
      " [-0.39384975  2.09891871  0.20735811  0.35038326 -0.67131414]\n",
      " [ 0.89671295  0.58221083 -0.10799678 -0.37664887 -0.31844909]\n",
      " [-0.81845801  0.27314245  0.78633245 -0.80271108  1.40498658]\n",
      " [ 0.31501252  0.07589159  1.50805403  0.07480414  1.14260662]\n",
      " [ 1.00399579 -0.77729278  0.5819678   2.00190275  1.35851105]]\n"
     ]
    }
   ],
   "source": [
    "# we can also use numpy to generate samples of a random variable\n",
    "rand_mat = np.random.rand(5,5) # uniform random variable\n",
    "print(rand_mat)\n",
    "rand_mat2 = np.random.randn(10,5) # standard normal random variable\n",
    "print('')\n",
    "print(rand_mat2)"
   ]
  },
  {
   "cell_type": "code",
   "execution_count": 12,
   "metadata": {},
   "outputs": [
    {
     "name": "stdout",
     "output_type": "stream",
     "text": [
      "0.5414758348354104\n",
      "0.9240074186528859\n"
     ]
    }
   ],
   "source": [
    "# we can also use numpy for statistical tools on arrays\n",
    "print(np.mean(rand_mat))\n",
    "print(np.std(rand_mat2))"
   ]
  },
  {
   "cell_type": "code",
   "execution_count": 13,
   "metadata": {},
   "outputs": [
    {
     "name": "stdout",
     "output_type": "stream",
     "text": [
      "0.030055593581483353\n",
      "2.1731926207596697\n"
     ]
    }
   ],
   "source": [
    "print(np.min(rand_mat))\n",
    "print(np.max(rand_mat2))"
   ]
  },
  {
   "cell_type": "markdown",
   "metadata": {},
   "source": [
    "## Numpy accessing entries"
   ]
  },
  {
   "cell_type": "code",
   "execution_count": 15,
   "metadata": {},
   "outputs": [
    {
     "name": "stdout",
     "output_type": "stream",
     "text": [
      "[ 0.95156208 -0.19380318  0.68579091 -0.86937515  0.12531037  0.30353976\n",
      " -0.97880043  0.00318651 -0.69648464  0.24268563 -0.19788778 -0.08629108\n",
      "  0.94043094  0.01470823  0.01824188  0.10630987 -0.51404781  0.61096494\n",
      " -2.43962245]\n",
      "-0.9788004311251758\n"
     ]
    }
   ],
   "source": [
    "# how do we access entries in a numpy vector\n",
    "rand_vec = np.random.randn(19)\n",
    "print(rand_vec)\n",
    "print(rand_vec[6])"
   ]
  },
  {
   "cell_type": "code",
   "execution_count": 16,
   "metadata": {},
   "outputs": [
    {
     "name": "stdout",
     "output_type": "stream",
     "text": [
      "[ 0.12531037  0.30353976 -0.97880043  0.00318651 -0.69648464]\n"
     ]
    }
   ],
   "source": [
    "# we can access multiple entries at once using :\n",
    "print(rand_vec[4:9])"
   ]
  },
  {
   "cell_type": "code",
   "execution_count": 17,
   "metadata": {},
   "outputs": [
    {
     "name": "stdout",
     "output_type": "stream",
     "text": [
      "[ 0  3  6  9 12]\n",
      "[ 0.95156208 -0.86937515 -0.97880043  0.24268563  0.94043094]\n"
     ]
    }
   ],
   "source": [
    "# we can also access multiple non-consecutive entries using np.arange\n",
    "print(np.arange(0,15,3))\n",
    "print(rand_vec[np.arange(0,15,3)])"
   ]
  },
  {
   "cell_type": "code",
   "execution_count": 18,
   "metadata": {},
   "outputs": [
    {
     "name": "stdout",
     "output_type": "stream",
     "text": [
      "[[0.78809289 0.87579924 0.67586237 0.58043873 0.37315926]\n",
      " [0.11495398 0.92812107 0.179463   0.53503292 0.5548553 ]\n",
      " [0.8411191  0.19365611 0.21811979 0.53354788 0.64405659]\n",
      " [0.38166248 0.85474716 0.47129516 0.92783501 0.03005559]\n",
      " [0.45346504 0.43183663 0.36883151 0.58952815 0.99136088]]\n",
      "0.179463000416606\n",
      "0.179463000416606\n"
     ]
    }
   ],
   "source": [
    "# what about matrices\n",
    "print(rand_mat)\n",
    "print(rand_mat[1][2])\n",
    "print(rand_mat[1,2])\n"
   ]
  },
  {
   "cell_type": "code",
   "execution_count": 19,
   "metadata": {},
   "outputs": [
    {
     "name": "stdout",
     "output_type": "stream",
     "text": [
      "[[0.87579924 0.67586237]\n",
      " [0.92812107 0.179463  ]]\n"
     ]
    }
   ],
   "source": [
    "print(rand_mat[0:2,1:3])"
   ]
  },
  {
   "cell_type": "code",
   "execution_count": 21,
   "metadata": {},
   "outputs": [
    {
     "name": "stdout",
     "output_type": "stream",
     "text": [
      "[ 0.95156208 -0.19380318  0.68579091  1.          2.          0.30353976\n",
      " -0.97880043  0.00318651 -0.69648464  0.24268563 -0.19788778 -0.08629108\n",
      "  0.94043094  0.01470823  0.01824188  0.10630987 -0.51404781  0.61096494\n",
      " -2.43962245]\n",
      "\n",
      "[ 9.51562077e-01 -1.93803180e-01  6.85790907e-01  4.00000000e+00\n",
      "  4.00000000e+00  3.03539758e-01 -9.78800431e-01  3.18651236e-03\n",
      " -6.96484640e-01  2.42685627e-01 -1.97887777e-01 -8.62910815e-02\n",
      "  9.40430937e-01  1.47082322e-02  1.82418841e-02  1.06309874e-01\n",
      " -5.14047813e-01  6.10964938e-01 -2.43962245e+00]\n",
      "\n",
      "[ 0.95156208 -0.19380318  0.68579091  1.          2.          0.30353976\n",
      " -0.97880043  0.00318651 -0.69648464  0.24268563 -0.19788778 -0.08629108\n",
      "  0.94043094  0.01470823  0.01824188  0.10630987 -0.51404781  0.61096494\n",
      " -2.43962245]\n"
     ]
    }
   ],
   "source": [
    "# let's change some values in an array!\n",
    "print(rand_vec)\n",
    "rand_vec[3:5] = 4\n",
    "print('')\n",
    "print(rand_vec)\n",
    "rand_vec[3:5] = [1,2]\n",
    "print('')\n",
    "print(rand_vec)"
   ]
  },
  {
   "cell_type": "code",
   "execution_count": 22,
   "metadata": {},
   "outputs": [
    {
     "name": "stdout",
     "output_type": "stream",
     "text": [
      "[[0.78809289 0.87579924 0.67586237 0.58043873 0.37315926]\n",
      " [0.11495398 0.92812107 0.179463   0.53503292 0.5548553 ]\n",
      " [0.8411191  0.19365611 0.21811979 0.53354788 0.64405659]\n",
      " [0.38166248 0.85474716 0.47129516 0.92783501 0.03005559]\n",
      " [0.45346504 0.43183663 0.36883151 0.58952815 0.99136088]]\n",
      "\n",
      "[[0.78809289 0.87579924 0.67586237 0.58043873 0.37315926]\n",
      " [0.11495398 0.92812107 0.179463   0.         0.        ]\n",
      " [0.8411191  0.19365611 0.21811979 0.         0.        ]\n",
      " [0.38166248 0.85474716 0.47129516 0.92783501 0.03005559]\n",
      " [0.45346504 0.43183663 0.36883151 0.58952815 0.99136088]]\n"
     ]
    }
   ],
   "source": [
    "print(rand_mat)\n",
    "rand_mat[1:3,3:5] = 0\n",
    "print('')\n",
    "print(rand_mat)"
   ]
  },
  {
   "cell_type": "code",
   "execution_count": 23,
   "metadata": {},
   "outputs": [
    {
     "name": "stdout",
     "output_type": "stream",
     "text": [
      "[[0.78809289 0.87579924 0.67586237]\n",
      " [0.11495398 0.92812107 0.179463  ]]\n",
      "[[3. 3. 3.]\n",
      " [3. 3. 3.]]\n"
     ]
    }
   ],
   "source": [
    "sub_mat = rand_mat[0:2,0:3]\n",
    "print(sub_mat)\n",
    "sub_mat[:] = 3\n",
    "print(sub_mat)\n"
   ]
  },
  {
   "cell_type": "code",
   "execution_count": 24,
   "metadata": {},
   "outputs": [
    {
     "name": "stdout",
     "output_type": "stream",
     "text": [
      "[[3.         3.         3.         0.58043873 0.37315926]\n",
      " [3.         3.         3.         0.         0.        ]\n",
      " [0.8411191  0.19365611 0.21811979 0.         0.        ]\n",
      " [0.38166248 0.85474716 0.47129516 0.92783501 0.03005559]\n",
      " [0.45346504 0.43183663 0.36883151 0.58952815 0.99136088]]\n"
     ]
    }
   ],
   "source": [
    "print(rand_mat)"
   ]
  },
  {
   "cell_type": "code",
   "execution_count": 25,
   "metadata": {},
   "outputs": [
    {
     "name": "stdout",
     "output_type": "stream",
     "text": [
      "[[99. 99. 99.]\n",
      " [99. 99. 99.]]\n",
      "[[3.         3.         3.         0.58043873 0.37315926]\n",
      " [3.         3.         3.         0.         0.        ]\n",
      " [0.8411191  0.19365611 0.21811979 0.         0.        ]\n",
      " [0.38166248 0.85474716 0.47129516 0.92783501 0.03005559]\n",
      " [0.45346504 0.43183663 0.36883151 0.58952815 0.99136088]]\n"
     ]
    }
   ],
   "source": [
    "sub_mat2 = rand_mat[0:2,0:3].copy()\n",
    "sub_mat2[:] = 99\n",
    "print(sub_mat2)\n",
    "print(rand_mat)\n"
   ]
  },
  {
   "cell_type": "markdown",
   "metadata": {},
   "source": [
    "## Saving and Loading Numpy Arrays"
   ]
  },
  {
   "cell_type": "code",
   "execution_count": 27,
   "metadata": {},
   "outputs": [
    {
     "name": "stdout",
     "output_type": "stream",
     "text": [
      "[-0.39952705  0.57665281 -0.24165538  0.12475233  0.52237072 -1.30194844\n",
      "  0.89077737 -0.20730277 -0.61021974 -0.05834864  0.26956994 -0.6730342\n",
      " -0.52419516  0.55228724  1.11543446]\n",
      "[False  True False  True  True False  True False False False  True False\n",
      " False  True  True]\n",
      "[0.57665281 0.12475233 0.52237072 0.89077737 0.26956994 0.55228724\n",
      " 1.11543446]\n"
     ]
    }
   ],
   "source": [
    "# we can also access entries with logicals\n",
    "rand_vec = np.random.randn(15)\n",
    "\n",
    "print(rand_vec)\n",
    "print(rand_vec>0)\n",
    "print(rand_vec[rand_vec>0])"
   ]
  },
  {
   "cell_type": "code",
   "execution_count": 28,
   "metadata": {},
   "outputs": [
    {
     "name": "stdout",
     "output_type": "stream",
     "text": [
      "[[ 0.79652568  0.43967293  1.5549618  -0.47370131  0.63688937]\n",
      " [-0.46110144 -1.25278956  1.7677119   0.06974586 -0.05589221]\n",
      " [ 1.13044458  1.82070514  0.07539993 -0.86521152  2.17319262]\n",
      " [ 0.67541238  0.76039766 -0.65277875 -1.65238475  0.1471629 ]\n",
      " [-0.21691626 -1.01671555 -0.0096981   0.3469085   1.63743204]\n",
      " [-0.39384975  2.09891871  0.20735811  0.35038326 -0.67131414]\n",
      " [ 0.89671295  0.58221083 -0.10799678 -0.37664887 -0.31844909]\n",
      " [-0.81845801  0.27314245  0.78633245 -0.80271108  1.40498658]\n",
      " [ 0.31501252  0.07589159  1.50805403  0.07480414  1.14260662]\n",
      " [ 1.00399579 -0.77729278  0.5819678   2.00190275  1.35851105]]\n",
      "[0.79652568 0.43967293 1.5549618  0.63688937 1.7677119  0.06974586\n",
      " 1.13044458 1.82070514 0.07539993 2.17319262 0.67541238 0.76039766\n",
      " 0.1471629  0.3469085  1.63743204 2.09891871 0.20735811 0.35038326\n",
      " 0.89671295 0.58221083 0.27314245 0.78633245 1.40498658 0.31501252\n",
      " 0.07589159 1.50805403 0.07480414 1.14260662 1.00399579 0.5819678\n",
      " 2.00190275 1.35851105]\n"
     ]
    }
   ],
   "source": [
    "print(rand_mat2)\n",
    "print(rand_mat2[rand_mat2>0])"
   ]
  },
  {
   "cell_type": "code",
   "execution_count": 29,
   "metadata": {},
   "outputs": [
    {
     "name": "stdout",
     "output_type": "stream",
     "text": [
      "[-0.39952705  0.57665281 -0.24165538  0.12475233  0.52237072 -1.30194844\n",
      "  0.89077737 -0.20730277 -0.61021974 -0.05834864  0.26956994 -0.6730342\n",
      " -0.52419516  0.55228724  1.11543446]\n",
      "\n",
      "[-0.39952705 -5.         -0.24165538  0.12475233 -5.         -1.30194844\n",
      " -5.         -0.20730277 -0.61021974 -0.05834864  0.26956994 -0.6730342\n",
      " -0.52419516 -5.         -5.        ]\n"
     ]
    }
   ],
   "source": [
    "\n",
    "print(rand_vec)\n",
    "print('')\n",
    "rand_vec[rand_vec>0.5] = -5\n",
    "print(rand_vec)"
   ]
  },
  {
   "cell_type": "code",
   "execution_count": 30,
   "metadata": {},
   "outputs": [],
   "source": [
    "# let's save some arrays on the disk for use later!\n",
    "np.save('saved_file_name',rand_mat2)\n"
   ]
  },
  {
   "cell_type": "code",
   "execution_count": 31,
   "metadata": {},
   "outputs": [],
   "source": [
    "np.savez('zipped_file_name',rand_mat=rand_mat,rand_mat2=rand_mat2)"
   ]
  },
  {
   "cell_type": "code",
   "execution_count": 32,
   "metadata": {},
   "outputs": [
    {
     "name": "stdout",
     "output_type": "stream",
     "text": [
      "[[ 0.79652568  0.43967293  1.5549618  -0.47370131  0.63688937]\n",
      " [-0.46110144 -1.25278956  1.7677119   0.06974586 -0.05589221]\n",
      " [ 1.13044458  1.82070514  0.07539993 -0.86521152  2.17319262]\n",
      " [ 0.67541238  0.76039766 -0.65277875 -1.65238475  0.1471629 ]\n",
      " [-0.21691626 -1.01671555 -0.0096981   0.3469085   1.63743204]\n",
      " [-0.39384975  2.09891871  0.20735811  0.35038326 -0.67131414]\n",
      " [ 0.89671295  0.58221083 -0.10799678 -0.37664887 -0.31844909]\n",
      " [-0.81845801  0.27314245  0.78633245 -0.80271108  1.40498658]\n",
      " [ 0.31501252  0.07589159  1.50805403  0.07480414  1.14260662]\n",
      " [ 1.00399579 -0.77729278  0.5819678   2.00190275  1.35851105]]\n",
      "\n",
      "<numpy.lib.npyio.NpzFile object at 0x0000023B7E4B1C88>\n"
     ]
    }
   ],
   "source": [
    "# now let's load it\n",
    "loaded_vec = np.load('saved_file_name.npy')\n",
    "loaded_zip = np.load('zipped_file_name.npz')\n",
    "\n",
    "print(loaded_vec)\n",
    "print('')\n",
    "print(loaded_zip)"
   ]
  },
  {
   "cell_type": "code",
   "execution_count": 33,
   "metadata": {},
   "outputs": [
    {
     "name": "stdout",
     "output_type": "stream",
     "text": [
      "[[3.         3.         3.         0.58043873 0.37315926]\n",
      " [3.         3.         3.         0.         0.        ]\n",
      " [0.8411191  0.19365611 0.21811979 0.         0.        ]\n",
      " [0.38166248 0.85474716 0.47129516 0.92783501 0.03005559]\n",
      " [0.45346504 0.43183663 0.36883151 0.58952815 0.99136088]]\n",
      "\n",
      "[[ 0.79652568  0.43967293  1.5549618  -0.47370131  0.63688937]\n",
      " [-0.46110144 -1.25278956  1.7677119   0.06974586 -0.05589221]\n",
      " [ 1.13044458  1.82070514  0.07539993 -0.86521152  2.17319262]\n",
      " [ 0.67541238  0.76039766 -0.65277875 -1.65238475  0.1471629 ]\n",
      " [-0.21691626 -1.01671555 -0.0096981   0.3469085   1.63743204]\n",
      " [-0.39384975  2.09891871  0.20735811  0.35038326 -0.67131414]\n",
      " [ 0.89671295  0.58221083 -0.10799678 -0.37664887 -0.31844909]\n",
      " [-0.81845801  0.27314245  0.78633245 -0.80271108  1.40498658]\n",
      " [ 0.31501252  0.07589159  1.50805403  0.07480414  1.14260662]\n",
      " [ 1.00399579 -0.77729278  0.5819678   2.00190275  1.35851105]]\n",
      "[[3.         3.         3.         0.58043873 0.37315926]\n",
      " [3.         3.         3.         0.         0.        ]\n",
      " [0.8411191  0.19365611 0.21811979 0.         0.        ]\n",
      " [0.38166248 0.85474716 0.47129516 0.92783501 0.03005559]\n",
      " [0.45346504 0.43183663 0.36883151 0.58952815 0.99136088]]\n"
     ]
    }
   ],
   "source": [
    "print(loaded_zip['rand_mat'])\n",
    "print('')\n",
    "print(loaded_zip['rand_mat2'])\n",
    "\n",
    "new_array  = loaded_zip['rand_mat']\n",
    "print(new_array)"
   ]
  },
  {
   "cell_type": "code",
   "execution_count": 34,
   "metadata": {},
   "outputs": [
    {
     "name": "stdout",
     "output_type": "stream",
     "text": [
      "[[3.         3.         3.         0.58043873 0.37315926]\n",
      " [3.         3.         3.         0.         0.        ]\n",
      " [0.8411191  0.19365611 0.21811979 0.         0.        ]\n",
      " [0.38166248 0.85474716 0.47129516 0.92783501 0.03005559]\n",
      " [0.45346504 0.43183663 0.36883151 0.58952815 0.99136088]]\n",
      "\n",
      "[[3.         3.         3.         0.58043873 0.37315926]\n",
      " [3.         3.         3.         0.         0.        ]\n",
      " [0.8411191  0.19365611 0.21811979 0.         0.        ]\n",
      " [0.38166248 0.85474716 0.47129516 0.92783501 0.03005559]\n",
      " [0.45346504 0.43183663 0.36883151 0.58952815 0.99136088]]\n"
     ]
    }
   ],
   "source": [
    "# we can also save/load as text files...but only single variables\n",
    "np.savetxt('text_file_name.txt',rand_mat,delimiter=',')\n",
    "rand_mat_txt = np.loadtxt('text_file_name.txt',delimiter=',')\n",
    "print(rand_mat)\n",
    "print('')\n",
    "print(rand_mat_txt)"
   ]
  }
 ],
 "metadata": {
  "kernelspec": {
   "display_name": "Python 3",
   "language": "python",
   "name": "python3"
  },
  "language_info": {
   "codemirror_mode": {
    "name": "ipython",
    "version": 3
   },
   "file_extension": ".py",
   "mimetype": "text/x-python",
   "name": "python",
   "nbconvert_exporter": "python",
   "pygments_lexer": "ipython3",
   "version": "3.7.4"
  }
 },
 "nbformat": 4,
 "nbformat_minor": 2
}

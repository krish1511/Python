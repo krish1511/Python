{
 "cells": [
  {
   "cell_type": "markdown",
   "metadata": {},
   "source": [
    "1. How to detect positive and negative numbers"
   ]
  },
  {
   "cell_type": "code",
   "execution_count": 3,
   "metadata": {},
   "outputs": [
    {
     "name": "stdout",
     "output_type": "stream",
     "text": [
      "enter the number15\n",
      "positive number\n"
     ]
    }
   ],
   "source": [
    "num = float(input('enter the number'))\n",
    "\n",
    "if num>0:\n",
    "    print('positive number')\n",
    "elif num<0:\n",
    "    print('negative number')\n",
    "else:\n",
    "    print('zero')"
   ]
  },
  {
   "cell_type": "markdown",
   "metadata": {},
   "source": [
    "2. How to check for even and odd numbers"
   ]
  },
  {
   "cell_type": "code",
   "execution_count": 4,
   "metadata": {},
   "outputs": [
    {
     "name": "stdout",
     "output_type": "stream",
     "text": [
      "enter the number15\n",
      "odd\n"
     ]
    }
   ],
   "source": [
    "num = int(input('enter the number'))\n",
    "\n",
    "if num % 2==0:\n",
    "    print('even')\n",
    "else:\n",
    "    print('odd')"
   ]
  },
  {
   "cell_type": "markdown",
   "metadata": {},
   "source": [
    "3. How to check for greatest of 3 numbers"
   ]
  },
  {
   "cell_type": "code",
   "execution_count": null,
   "metadata": {},
   "outputs": [],
   "source": [
    "num1 , num2 , num3 = [int(num) for num in input('enter the number').split(' ')]\n",
    "if (num1 > num2) & (num1 > num3):\n",
    "    largest = num1\n",
    "elif (num2 > num1) & (num2 > num3):\n",
    "    largest = num2\n",
    "else:\n",
    "    largest = num3\n",
    "print(largest)"
   ]
  },
  {
   "cell_type": "markdown",
   "metadata": {},
   "source": [
    "4 How to check for divisibility of a number"
   ]
  },
  {
   "cell_type": "code",
   "execution_count": null,
   "metadata": {},
   "outputs": [],
   "source": [
    "num1 , num2 = [int(num) for num in input('enter the numbers').split(' ')]\n",
    "if num1 % num2 == 0:\n",
    "    print('{} can divisible by {}'.format(num1,num2))\n",
    "else:\n",
    "    print('{} cannot divisible by {}'.format(num1,num2))"
   ]
  },
  {
   "cell_type": "markdown",
   "metadata": {},
   "source": [
    "5. How to convert from celsius to fahrenheit"
   ]
  },
  {
   "cell_type": "code",
   "execution_count": null,
   "metadata": {},
   "outputs": [],
   "source": [
    "num1 = float(input('enter the celsius'))\n",
    "num1 =  (num1 * 9/5) + 32\n",
    "print('the temperature in fahrenheit is {}'.format(num1))\n"
   ]
  },
  {
   "cell_type": "markdown",
   "metadata": {},
   "source": [
    "6 How to convert from farenheit to celsius"
   ]
  },
  {
   "cell_type": "code",
   "execution_count": null,
   "metadata": {},
   "outputs": [],
   "source": [
    "num1 = float(input('enter the farenheit'))\n",
    "num1 =  (num1 - 32) * 5/9\n",
    "print('the temperature in celsius is {}'.format(num1))\n"
   ]
  },
  {
   "cell_type": "markdown",
   "metadata": {},
   "source": [
    "7. How to Create a simple thermomter"
   ]
  },
  {
   "cell_type": "code",
   "execution_count": null,
   "metadata": {},
   "outputs": [],
   "source": [
    "x = input('enter the temperature in celsius or farenheit ')\n",
    "\n",
    "unit = x[-1]\n",
    "#print(unit)\n",
    "num = float(x[0:-1])\n",
    "#print(num)\n",
    "if unit =='C' or unit =='c':\n",
    "    num =  (num * 9/5) + 32\n",
    "    print('the temperature in fahrenheit is {} f'.format(num))\n",
    "    \n",
    "elif unit =='F' or unit =='f':\n",
    "    num =  (num - 32) * 5/9\n",
    "    print('the temperature in celsius is {} c'.format(num))\n",
    "else:\n",
    "    print('invalid temperature')\n"
   ]
  },
  {
   "cell_type": "markdown",
   "metadata": {},
   "source": [
    "8. How to calculate mass,density and volume"
   ]
  },
  {
   "cell_type": "code",
   "execution_count": null,
   "metadata": {},
   "outputs": [],
   "source": [
    "x = input('what do you want to calculate mass density volume')\n",
    "\n",
    "if x=='m' or x=='M':\n",
    "    d = float(input('enter the density'))\n",
    "    v = float(input('enter the volume'))\n",
    "    m = d * v\n",
    "    print(m)\n",
    "if x=='d' or x =='D':\n",
    "    m = float(input('enter the mass'))\n",
    "    v = float(input('enter the volume'))\n",
    "    d = m / v\n",
    "    print(d)\n",
    "if x=='v' or x=='V':\n",
    "    m = float(input('enter the mass'))\n",
    "    d = float(input('enter the density'))\n",
    "    v = m / d\n",
    "    print(v)"
   ]
  },
  {
   "cell_type": "markdown",
   "metadata": {},
   "source": [
    "9. How to determine the quadrant of a point "
   ]
  },
  {
   "cell_type": "markdown",
   "metadata": {},
   "source": [
    "If in first quadrant then,    x > 0 and y > 0 \n",
    "If in second quadrant then,   x < 0 and y > 0 \n",
    "If in third quadrant then,    x < 0 and y < 0 \n",
    "If in fourth quadrant then,   x > 0 and y < 0 \n",
    "If in positive x-axis then,   y = 0 and x > 0\n",
    "If in negative x-axis then,   y = 0 and x < 0  \n",
    "If in positive y-axis then,   x = 0 and y > 0\n",
    "If in negative y-axis then,   x = 0 and y < 0  \n",
    "If at origin then,            x = 0 and y = 0 "
   ]
  },
  {
   "cell_type": "code",
   "execution_count": null,
   "metadata": {},
   "outputs": [],
   "source": [
    "def quadrant(x,y):\n",
    "    if (x>0 and y>0):\n",
    "        print('first quadrant')\n",
    "    elif (x<0 and y>0):\n",
    "        print('second quadrant')\n",
    "    elif (x<0 and y<0):\n",
    "        print('third quadrant')\n",
    "    elif (x>0 and y<0):\n",
    "        print('forth quadrant')\n",
    "    elif (y==0 and x>0):\n",
    "        print('positive x-axis')\n",
    "    elif (x==0 and x<0):\n",
    "        print('negative x-axis')\n",
    "    elif (x==0 and y>0):\n",
    "        print('positive y-axis')\n",
    "    elif (x==0 and y<0):\n",
    "        print('negative y-axis')\n",
    "    else:\n",
    "        print('at origin')\n",
    "x = 0\n",
    "y = 180\n",
    "quadrant(x,y)"
   ]
  },
  {
   "cell_type": "markdown",
   "metadata": {},
   "source": [
    "10. How to determine if a triangle exits"
   ]
  },
  {
   "cell_type": "code",
   "execution_count": null,
   "metadata": {},
   "outputs": [],
   "source": [
    "num1, num2, num3 = [float(x) for x in input('enter the side of the traingle').split(' ')]\n",
    "if num1 < num2+num3 or num2 < num1+num3 or num3 < num1+num2:\n",
    "    print('triangle exits')\n",
    "else:\n",
    "    print('triangle doesnt exists')"
   ]
  },
  {
   "cell_type": "markdown",
   "metadata": {},
   "source": [
    "11. How to check for leap year"
   ]
  },
  {
   "cell_type": "code",
   "execution_count": null,
   "metadata": {},
   "outputs": [],
   "source": [
    "year = int(input('enter the leap year'))\n",
    "\n",
    "if year % 4 ==0 and (year % 100!=0 or year % 400==0):\n",
    "    print('leap year')\n",
    "else:\n",
    "    print('not leap year')"
   ]
  },
  {
   "cell_type": "markdown",
   "metadata": {},
   "source": [
    "12. How to check if a point belongs to circle"
   ]
  },
  {
   "cell_type": "code",
   "execution_count": null,
   "metadata": {},
   "outputs": [],
   "source": [
    "x,y = [float(num) for num in input('enter the x and y coordinates').split(' ')]\n",
    "\n",
    "distance = (x**2)+(y**2)\n",
    "r = distance ** 0.5\n",
    "\n",
    "if distance > r:\n",
    "    print('{},{} lies outside of the circle'.format(x,y))\n",
    "elif distance == r: \n",
    "    print('{},{} lies on the circle'.format(x,y))\n",
    "elif distance < r:\n",
    "    print('{},{} lies inside the circle'.format(x,y))"
   ]
  },
  {
   "cell_type": "markdown",
   "metadata": {},
   "source": [
    "13. How to create quadtaric equation"
   ]
  },
  {
   "cell_type": "code",
   "execution_count": null,
   "metadata": {},
   "outputs": [],
   "source": [
    "# Quadratic Equation in Standard Form: ax2 + bx + c = 0.\n",
    "# Quadratic Formula: x = −b ± √(b2 − 4ac) 2a.\n",
    "import cmath\n",
    "a,b,c = [float(num) for num in input('enter the numbers').split(' ')]\n",
    "\n",
    "cal = (b**2) - (4*a*c)\n",
    "\n",
    "sol1 =  (-b+cmath.sqrt(cal) ) / (2*a)\n",
    "sol2 =  (-b-cmath.sqrt(cal) ) / (2*a)\n",
    "\n",
    "print('The solution are {0} and {1}'.format(sol1,sol2))"
   ]
  },
  {
   "cell_type": "markdown",
   "metadata": {},
   "source": [
    "14. How to make question of random number"
   ]
  },
  {
   "cell_type": "code",
   "execution_count": null,
   "metadata": {},
   "outputs": [],
   "source": [
    "from random import randint\n",
    "\n",
    "rand_num = randint(0,100)\n",
    "trail_num = 1\n",
    "user_num = 0\n",
    "\n",
    "while user_num != trail_num:\n",
    "    print('trail number is ',trail_num)\n",
    "    user_num = int(input('guess the number'))\n",
    "    \n",
    "    if user_num > 100:\n",
    "        print('number is invalid')\n",
    "    \n",
    "    if user_num > trail_num:\n",
    "        print('number is greater')\n",
    "    elif user_num < trail_num:\n",
    "        print('number is lesser')\n",
    "    elif user_num == trail_num:\n",
    "        print('your guess is right')\n",
    "        break        \n",
    "    trail_num += 1\n"
   ]
  },
  {
   "cell_type": "markdown",
   "metadata": {},
   "source": [
    "15. How to print out the Ascii table"
   ]
  },
  {
   "cell_type": "code",
   "execution_count": 14,
   "metadata": {},
   "outputs": [
    {
     "name": "stdout",
     "output_type": "stream",
     "text": [
      "  ! \" # $ % & ' ( ) \n",
      "* + , - . / 0 1 2 3 \n",
      "4 5 6 7 8 9 : ; < = \n",
      "> ? @ A B C D E F G \n",
      "H I J K L M N O P Q \n",
      "R S T U V W X Y Z [ \n",
      "\\ ] ^ _ ` a b c d e \n",
      "f g h i j k l m n o \n",
      "p q r s t u v w x y \n",
      "z { | } ~  "
     ]
    }
   ],
   "source": [
    "for i in range(32,128):\n",
    "    print(chr(i),end=' ')\n",
    "    if (i - 1) %10==0:\n",
    "        print()"
   ]
  },
  {
   "cell_type": "markdown",
   "metadata": {},
   "source": [
    "16. How to create a multiplication table using while loop"
   ]
  },
  {
   "cell_type": "code",
   "execution_count": 25,
   "metadata": {},
   "outputs": [
    {
     "name": "stdout",
     "output_type": "stream",
     "text": [
      "enter the table number15\n",
      "15 * 1 = 15\n",
      "15 * 2 = 30\n",
      "15 * 3 = 45\n",
      "15 * 4 = 60\n",
      "15 * 5 = 75\n",
      "15 * 6 = 90\n",
      "15 * 7 = 105\n",
      "15 * 8 = 120\n",
      "15 * 9 = 135\n",
      "15 * 10 = 150\n"
     ]
    }
   ],
   "source": [
    "x = int(input('enter the table number'))\n",
    "i = 1\n",
    "while i<11:\n",
    "    print('{} * {} = {}'.format(x , i , x*i))\n",
    "    i+=1"
   ]
  },
  {
   "cell_type": "markdown",
   "metadata": {},
   "source": [
    "17. How to create a multiplication table using for loop"
   ]
  },
  {
   "cell_type": "code",
   "execution_count": 23,
   "metadata": {},
   "outputs": [
    {
     "name": "stdout",
     "output_type": "stream",
     "text": [
      "enter the table number15\n",
      "15 * 1 = 15\n",
      "15 * 2 = 30\n",
      "15 * 3 = 45\n",
      "15 * 4 = 60\n",
      "15 * 5 = 75\n",
      "15 * 6 = 90\n",
      "15 * 7 = 105\n",
      "15 * 8 = 120\n",
      "15 * 9 = 135\n",
      "15 * 10 = 150\n"
     ]
    }
   ],
   "source": [
    "x = int(input('enter the table number'))\n",
    "for i in range(1,11):\n",
    "    print('{} * {} = {}'.format(x , i , x*i))"
   ]
  },
  {
   "cell_type": "code",
   "execution_count": 32,
   "metadata": {},
   "outputs": [
    {
     "name": "stdout",
     "output_type": "stream",
     "text": [
      "1 * 1 = 1\n",
      "1 * 2 = 2\n",
      "1 * 3 = 3\n",
      "1 * 4 = 4\n",
      "1 * 5 = 5\n",
      "1 * 6 = 6\n",
      "1 * 7 = 7\n",
      "1 * 8 = 8\n",
      "1 * 9 = 9\n",
      "1 * 10 = 10\n",
      "\n",
      "2 * 1 = 2\n",
      "2 * 2 = 4\n",
      "2 * 3 = 6\n",
      "2 * 4 = 8\n",
      "2 * 5 = 10\n",
      "2 * 6 = 12\n",
      "2 * 7 = 14\n",
      "2 * 8 = 16\n",
      "2 * 9 = 18\n",
      "2 * 10 = 20\n",
      "\n",
      "3 * 1 = 3\n",
      "3 * 2 = 6\n",
      "3 * 3 = 9\n",
      "3 * 4 = 12\n",
      "3 * 5 = 15\n",
      "3 * 6 = 18\n",
      "3 * 7 = 21\n",
      "3 * 8 = 24\n",
      "3 * 9 = 27\n",
      "3 * 10 = 30\n",
      "\n",
      "4 * 1 = 4\n",
      "4 * 2 = 8\n",
      "4 * 3 = 12\n",
      "4 * 4 = 16\n",
      "4 * 5 = 20\n",
      "4 * 6 = 24\n",
      "4 * 7 = 28\n",
      "4 * 8 = 32\n",
      "4 * 9 = 36\n",
      "4 * 10 = 40\n",
      "\n"
     ]
    }
   ],
   "source": [
    "for i in range(1,5):\n",
    "    for j in range(1, 11):\n",
    "        print('{} * {} = {}'.format(i , j , i*j))\n",
    "    print()\n"
   ]
  },
  {
   "cell_type": "markdown",
   "metadata": {},
   "source": [
    "18. How to convert from base 2 to 9"
   ]
  },
  {
   "cell_type": "code",
   "execution_count": 38,
   "metadata": {},
   "outputs": [
    {
     "name": "stdout",
     "output_type": "stream",
     "text": [
      "enter the number2\n",
      "enter the base9\n",
      "2 \n"
     ]
    }
   ],
   "source": [
    "num = int(input('enter the number'))\n",
    "base = int(input('enter the base'))\n",
    "\n",
    "if base < 2 or base > 9:\n",
    "    print('enter valid number')\n",
    "    \n",
    "num1 = ' '\n",
    "while num > 0:\n",
    "    num1 = str(num%base)+num1\n",
    "    num //= base\n",
    "print(num1)"
   ]
  },
  {
   "cell_type": "markdown",
   "metadata": {},
   "source": [
    "19. How to build a simple calculator"
   ]
  },
  {
   "cell_type": "code",
   "execution_count": 41,
   "metadata": {},
   "outputs": [
    {
     "name": "stdout",
     "output_type": "stream",
     "text": [
      " enter the life of the number you want to calculate\n",
      "enter the operation (+,-,*,/)-\n",
      "enter the first number6\n",
      "enter the second number3\n",
      "the values is 3.0\n"
     ]
    }
   ],
   "source": [
    "print(' enter the life of the number you want to calculate')\n",
    "\n",
    "while True:\n",
    "    op = input('enter the operation (+,-,*,/)')\n",
    "    num1 = float(input('enter the first number'))\n",
    "    num2 = float(input('enter the second number'))\n",
    "    \n",
    "    if op == '+':\n",
    "        print('the values is {}'.format(num1+num2))\n",
    "        break\n",
    "    if op =='-':\n",
    "        print('the values is {}'.format(num1-num2))\n",
    "        break\n",
    "    if op == '*':\n",
    "        print('the values is {}'.format(num1*num2))\n",
    "        break\n",
    "    if op == '/':\n",
    "        print('the values is {}'.format(num1/num2))\n",
    "        break\n",
    "\n",
    "    else:\n",
    "        print('enter invalid operation')"
   ]
  },
  {
   "cell_type": "markdown",
   "metadata": {},
   "source": [
    "20. Number of digits in an integer"
   ]
  },
  {
   "cell_type": "code",
   "execution_count": 44,
   "metadata": {},
   "outputs": [
    {
     "name": "stdout",
     "output_type": "stream",
     "text": [
      "enter the number123\n",
      "3\n"
     ]
    }
   ],
   "source": [
    "num = input('enter the number')\n",
    "print(len(num))"
   ]
  },
  {
   "cell_type": "code",
   "execution_count": 60,
   "metadata": {},
   "outputs": [
    {
     "name": "stdout",
     "output_type": "stream",
     "text": [
      "enter the number147852269\n",
      "9\n"
     ]
    }
   ],
   "source": [
    "num = int(input('enter the number'))\n",
    "\n",
    "count = 0\n",
    "for i in str(num):\n",
    "    count+=1\n",
    "print(count)"
   ]
  },
  {
   "cell_type": "code",
   "execution_count": 67,
   "metadata": {},
   "outputs": [
    {
     "name": "stdout",
     "output_type": "stream",
     "text": [
      "enter the number159\n",
      "3\n"
     ]
    }
   ],
   "source": [
    "num = int(input('enter the number'))\n",
    "\n",
    "count = 0\n",
    "while num > 0:   # until the number become 0\n",
    "    num //= 10   # it reduces last digit and will add to the count\n",
    "    count +=1    \n",
    "print(count)"
   ]
  },
  {
   "cell_type": "markdown",
   "metadata": {},
   "source": [
    "21. How to get sum and product of digits"
   ]
  },
  {
   "cell_type": "code",
   "execution_count": 90,
   "metadata": {},
   "outputs": [
    {
     "name": "stdout",
     "output_type": "stream",
     "text": [
      "enter the number143\n",
      "8\n",
      "12\n"
     ]
    }
   ],
   "source": [
    "num = int(input('enter the number'))\n",
    "\n",
    "sum = 0\n",
    "prod = 1\n",
    "while num > 0:\n",
    "    sum += num % 10\n",
    "    prod *= num % 10\n",
    "    num //=10\n",
    "print(sum)\n",
    "print(prod)"
   ]
  },
  {
   "cell_type": "markdown",
   "metadata": {},
   "source": [
    "22. How to make a binary search of number in an array"
   ]
  },
  {
   "cell_type": "code",
   "execution_count": 280,
   "metadata": {},
   "outputs": [
    {
     "name": "stdout",
     "output_type": "stream",
     "text": [
      "[2, 3, 4, 6, 8, 9]\n",
      "found at 3\n"
     ]
    }
   ],
   "source": [
    "def binary_search(lst, n):\n",
    "    l = 0\n",
    "    u = len(lst)\n",
    "    \n",
    "    for i in range(l,u):\n",
    "        mid = (l+u)//2\n",
    "        if lst[mid] == n:\n",
    "            print('found at',mid)\n",
    "            break\n",
    "        elif lst[mid] < n:\n",
    "            l = mid\n",
    "        else:\n",
    "            u = mid\n",
    "    else:\n",
    "        print('not found')\n",
    "    \n",
    "def bubble_sort(lst):\n",
    "    \n",
    "    for i in range(len(lst)-1,0,-1):\n",
    "        for j in range(i):\n",
    "            if lst[j] > lst[j+1]:\n",
    "                lst[j],lst[j+1] = lst[j+1],lst[j]\n",
    "    return lst\n",
    "l = [6,4,3,8,2,9]\n",
    "n = 6\n",
    "lst = bubble_sort(l)\n",
    "print(lst)\n",
    "binary_search(lst,n)"
   ]
  },
  {
   "cell_type": "code",
   "execution_count": 294,
   "metadata": {},
   "outputs": [
    {
     "name": "stdout",
     "output_type": "stream",
     "text": [
      "[2, 3, 4, 6, 8, 9]\n",
      "found at 3\n"
     ]
    }
   ],
   "source": [
    "def bin_search(lst,n):\n",
    "    l = 0\n",
    "    u = len(lst) \n",
    "    pos = 0\n",
    "    for i in range(l,u):\n",
    "        mid = (l+u)//2\n",
    "        if lst[mid] == n:\n",
    "            globals()['pos'] = mid\n",
    "            return True\n",
    "        elif lst[mid] < n:\n",
    "            l = mid\n",
    "        else:\n",
    "            u = mid\n",
    "    return False\n",
    "def selection_sort(lst):\n",
    "    for i in range(len(lst)):\n",
    "        minpos = i\n",
    "        for j in range(i,len(lst)):\n",
    "            if lst[j] < lst[minpos]:\n",
    "                lst[j],lst[minpos] = lst[minpos],lst[j]\n",
    "    return lst\n",
    "        \n",
    "l = [6,4,3,8,2,9]\n",
    "n = 6\n",
    "lst = selection_sort(l)\n",
    "print(lst)\n",
    "if bin_search(lst,n):\n",
    "    print('found at',pos)\n",
    "else:\n",
    "    print('not found')"
   ]
  },
  {
   "cell_type": "code",
   "execution_count": 329,
   "metadata": {},
   "outputs": [
    {
     "name": "stdout",
     "output_type": "stream",
     "text": [
      "[1, 3, 5, 6, 7, 9]\n",
      "found at 2\n"
     ]
    }
   ],
   "source": [
    "def b_search(lst, n):\n",
    "    \n",
    "    l = 0\n",
    "    u = len(lst)-1\n",
    "    i = 0\n",
    "    while len(lst) > i:\n",
    "        mid = (l+u)//2\n",
    "        if lst[mid] == n:\n",
    "            print('found at',mid)\n",
    "            break\n",
    "        elif lst[mid] < n:\n",
    "            l = mid\n",
    "            l +=1\n",
    "        else:\n",
    "            u = mid\n",
    "            u-=1\n",
    "        i+=1\n",
    "        \n",
    "    else:\n",
    "        print('not found')\n",
    "\n",
    "def bubble_sort(lst):\n",
    "    for i in range(len(lst)):\n",
    "        for j in range(i):\n",
    "            if lst[i] < lst[j]:\n",
    "                lst[i],lst[j] = lst[j],lst[i]\n",
    "    return lst\n",
    "l = [9,3,6,7,1,5]\n",
    "n = 5\n",
    "lst = bubble_sort(l)\n",
    "print(lst)\n",
    "b_search(lst,n)"
   ]
  },
  {
   "cell_type": "markdown",
   "metadata": {},
   "source": [
    "23. How to sum of N series of an element"
   ]
  },
  {
   "cell_type": "code",
   "execution_count": 103,
   "metadata": {},
   "outputs": [
    {
     "name": "stdout",
     "output_type": "stream",
     "text": [
      "enter the number5\n",
      "0.6875\n"
     ]
    }
   ],
   "source": [
    " # 1 ,0.5 ,0.75 , 0.625 , 0.6875\n",
    "x = int(input('enter the number'))\n",
    "\n",
    "total = 0\n",
    "z = 0\n",
    "y = 1\n",
    "while z<x:    # 0<2 ; 1<2 \n",
    "    total += y # 1 ; 2\n",
    "    y /= -2   #  -0.5 ; -1\n",
    "    z+=1     \n",
    "print(total)"
   ]
  },
  {
   "cell_type": "markdown",
   "metadata": {},
   "source": [
    "24. How to get value of even and odd digits"
   ]
  },
  {
   "cell_type": "code",
   "execution_count": 170,
   "metadata": {},
   "outputs": [
    {
     "name": "stdout",
     "output_type": "stream",
     "text": [
      "enter the number268453179\n",
      "4 and 5\n"
     ]
    }
   ],
   "source": [
    "\n",
    "num = int(input('enter the number'))\n",
    "\n",
    "even = 0\n",
    "odd = 0\n",
    "\n",
    "while num > 0:\n",
    "    if num % 2 ==0:\n",
    "        even += 1\n",
    "    \n",
    "    else:\n",
    "        odd += 1\n",
    "        \n",
    "    num //=10\n",
    "    \n",
    "print('{} and {}'.format(even,odd))"
   ]
  },
  {
   "cell_type": "markdown",
   "metadata": {},
   "source": [
    "25. How to get a factorial using a while loop"
   ]
  },
  {
   "cell_type": "code",
   "execution_count": 128,
   "metadata": {},
   "outputs": [
    {
     "name": "stdout",
     "output_type": "stream",
     "text": [
      "enter the number5\n",
      "120\n"
     ]
    }
   ],
   "source": [
    "# Factorial Using recusrion\n",
    "# 4! = 4*3*2*4\n",
    "def fact(n):\n",
    "    if n==0:\n",
    "        return 1\n",
    "    return n * fact(n-1)\n",
    "n= int(input('enter the number'))\n",
    "result = fact(n)\n",
    "print(result)"
   ]
  },
  {
   "cell_type": "code",
   "execution_count": 163,
   "metadata": {},
   "outputs": [
    {
     "name": "stdout",
     "output_type": "stream",
     "text": [
      "enter the number5\n"
     ]
    },
    {
     "data": {
      "text/plain": [
       "120"
      ]
     },
     "execution_count": 163,
     "metadata": {},
     "output_type": "execute_result"
    }
   ],
   "source": [
    "def fact(n):\n",
    "    prod = 1\n",
    "    i = 1\n",
    "    while i < n+1:\n",
    "        prod *= i\n",
    "        i += 1\n",
    "    return prod\n",
    "n = int(input('enter the number'))\n",
    "fact(n)       "
   ]
  },
  {
   "cell_type": "markdown",
   "metadata": {},
   "source": [
    "26. How to get a factorial using for loop"
   ]
  },
  {
   "cell_type": "code",
   "execution_count": 158,
   "metadata": {},
   "outputs": [
    {
     "name": "stdout",
     "output_type": "stream",
     "text": [
      "enter the number5\n"
     ]
    },
    {
     "data": {
      "text/plain": [
       "120"
      ]
     },
     "execution_count": 158,
     "metadata": {},
     "output_type": "execute_result"
    }
   ],
   "source": [
    "def fact(n):\n",
    "    prod = 1\n",
    "    for i in range(1,n+1): \n",
    "        prod *=i  \n",
    "    return prod\n",
    "n = int(input('enter the number'))\n",
    "fact(n)"
   ]
  },
  {
   "cell_type": "markdown",
   "metadata": {},
   "source": [
    "27. How to create a fibonacci sequence"
   ]
  },
  {
   "cell_type": "code",
   "execution_count": 202,
   "metadata": {},
   "outputs": [
    {
     "name": "stdout",
     "output_type": "stream",
     "text": [
      "0 1 2 3 5 8 13 21 34 55 89 144 "
     ]
    }
   ],
   "source": [
    "def fib(n):\n",
    "    a = 0\n",
    "    b = 1\n",
    "    print(a,end=' ')\n",
    "    print(b,end=' ')\n",
    "    for i in range(n):\n",
    "        if n == 0:\n",
    "            print(a)\n",
    "        elif n == 1:\n",
    "            print(b)\n",
    "        else:\n",
    "            c = a+b\n",
    "            a = b\n",
    "            b = c\n",
    "        \n",
    "        if c >100:\n",
    "            break\n",
    "        print(c,end=' ')\n",
    "        \n",
    "        # (or)\n",
    "        \n",
    "        #a,b = b, a+b\n",
    "        \n",
    "        #print(a+b,end=' ')\n",
    "fib(10)"
   ]
  },
  {
   "cell_type": "markdown",
   "metadata": {},
   "source": [
    "28. How to get the value of fibonacci element"
   ]
  },
  {
   "cell_type": "code",
   "execution_count": 213,
   "metadata": {},
   "outputs": [
    {
     "data": {
      "text/plain": [
       "89"
      ]
     },
     "execution_count": 213,
     "metadata": {},
     "output_type": "execute_result"
    }
   ],
   "source": [
    "def fib_n(n):\n",
    "    a = 0\n",
    "    b = 1\n",
    "    \n",
    "    i = 0\n",
    "    while i < n:\n",
    "        a,b = b,a+b\n",
    "        i += 1\n",
    "    return b\n",
    "fib_n(10)\n"
   ]
  },
  {
   "cell_type": "markdown",
   "metadata": {},
   "source": [
    "29. How to get find the greatest common divisor"
   ]
  },
  {
   "cell_type": "code",
   "execution_count": 222,
   "metadata": {},
   "outputs": [
    {
     "data": {
      "text/plain": [
       "10"
      ]
     },
     "execution_count": 222,
     "metadata": {},
     "output_type": "execute_result"
    }
   ],
   "source": [
    "# Using recursion\n",
    "\n",
    "def computGCD(a,b):\n",
    "    if b == 0:\n",
    "        return a\n",
    "    return computGCD(b, a%b)\n",
    "computGCD(10,20)"
   ]
  },
  {
   "cell_type": "code",
   "execution_count": 234,
   "metadata": {},
   "outputs": [
    {
     "data": {
      "text/plain": [
       "10"
      ]
     },
     "execution_count": 234,
     "metadata": {},
     "output_type": "execute_result"
    }
   ],
   "source": [
    "def computeGCD(a,b):\n",
    "    if a>b:\n",
    "        small = b\n",
    "    else:\n",
    "        small = a\n",
    "    for i in range(1,small+1):\n",
    "        if (a%i==0) and (b%i==0):\n",
    "            gcd = i\n",
    "    return gcd\n",
    "computeGCD(10,20)"
   ]
  },
  {
   "cell_type": "markdown",
   "metadata": {},
   "source": [
    "30. How to maximum value of a floating point number"
   ]
  },
  {
   "cell_type": "code",
   "execution_count": 265,
   "metadata": {},
   "outputs": [
    {
     "name": "stdout",
     "output_type": "stream",
     "text": [
      "909.691\n",
      "1\n",
      "the maximum number is  9\n"
     ]
    }
   ],
   "source": [
    "from random import random\n",
    "\n",
    "num = round(random()*1000,3)\n",
    "print(num)\n",
    "\n",
    "y = str(num)\n",
    "maxi = -1\n",
    "\n",
    "\n",
    "for i in range(len(y)):\n",
    "    if y[i] =='.':\n",
    "        continue\n",
    "    elif maxi < int(y[i]):\n",
    "        maxi = int(y[i])\n",
    "        \n",
    "print(y[i])\n",
    "print('the maximum number is ',maxi)"
   ]
  },
  {
   "cell_type": "markdown",
   "metadata": {},
   "source": [
    "31. How to get prime numbers"
   ]
  },
  {
   "cell_type": "code",
   "execution_count": 376,
   "metadata": {},
   "outputs": [
    {
     "name": "stdout",
     "output_type": "stream",
     "text": [
      "prime\n"
     ]
    }
   ],
   "source": [
    "def prime(n):\n",
    "    for i in range(2,n):\n",
    "        if n%i==0:\n",
    "            print('not prime')\n",
    "            break\n",
    "    else:\n",
    "        print('prime')\n",
    "\n",
    "prime(13)"
   ]
  },
  {
   "cell_type": "markdown",
   "metadata": {},
   "source": [
    "32. How to reverse numbers and string"
   ]
  },
  {
   "cell_type": "code",
   "execution_count": 416,
   "metadata": {},
   "outputs": [
    {
     "data": {
      "text/plain": [
       "'321'"
      ]
     },
     "execution_count": 416,
     "metadata": {},
     "output_type": "execute_result"
    }
   ],
   "source": [
    "def reverse(n):\n",
    "    \n",
    "    i = ''\n",
    "    while n>0:\n",
    "        temp = n%10\n",
    "        i = i + str(temp)\n",
    "        n//=10\n",
    "    return i\n",
    "reverse(123)"
   ]
  },
  {
   "cell_type": "code",
   "execution_count": 417,
   "metadata": {},
   "outputs": [
    {
     "data": {
      "text/plain": [
       "'ias'"
      ]
     },
     "execution_count": 417,
     "metadata": {},
     "output_type": "execute_result"
    }
   ],
   "source": [
    "n = 'sai'\n",
    "n[::-1]"
   ]
  },
  {
   "cell_type": "code",
   "execution_count": 421,
   "metadata": {},
   "outputs": [
    {
     "data": {
      "text/plain": [
       "'321'"
      ]
     },
     "execution_count": 421,
     "metadata": {},
     "output_type": "execute_result"
    }
   ],
   "source": [
    "def reverse(str):\n",
    "    s = ''\n",
    "    for i in str:\n",
    "        s = i+s\n",
    "    return s\n",
    "reverse('123')"
   ]
  },
  {
   "cell_type": "markdown",
   "metadata": {},
   "source": [
    "33. How to select Intergers from string"
   ]
  },
  {
   "cell_type": "code",
   "execution_count": 456,
   "metadata": {},
   "outputs": [
    {
     "name": "stdout",
     "output_type": "stream",
     "text": [
      "enter the stringsdfr85ergrr5 5 e rfrd456fg 5 5w5gr5gr4gr\n",
      "[85, 5, 5, 456, 5, 5, 5, 5, 4]\n"
     ]
    }
   ],
   "source": [
    "str = input('enter the string')\n",
    "\n",
    "mynum = []  # to append all the numbers from the string\n",
    "\n",
    "i = 0\n",
    "while len(str) > i:  # until the len(str) becomes more than it had\n",
    "    num = ' '  # initalize number with empty string\n",
    "    symb = str[i]   # each element in that string will be kept into the variable symb\n",
    "    \n",
    "    while '0' <= symb <= '9':  # if each element in the string had numbers of (0 to 9)\n",
    "        num += symb   # empty string will add the numbers\n",
    "        i += 1   # increment the index number\n",
    "        \n",
    "        \n",
    "        if len(str) > i:\n",
    "            symb = str[i]\n",
    "        else:\n",
    "            break\n",
    "    i += 1\n",
    "    \n",
    "    if num != ' ':  # if it has any string or if it is not empty string\n",
    "        mynum.append(int(num))\n",
    "    \n",
    "print(mynum)\n",
    "    "
   ]
  },
  {
   "cell_type": "code",
   "execution_count": 15,
   "metadata": {},
   "outputs": [
    {
     "name": "stdout",
     "output_type": "stream",
     "text": [
      "enter the string sdejfpk;f56ef6e5f6efed\n"
     ]
    },
    {
     "data": {
      "text/plain": [
       "[56, 6, 5, 6]"
      ]
     },
     "execution_count": 15,
     "metadata": {},
     "output_type": "execute_result"
    }
   ],
   "source": [
    "def select_integers_from_string(str):\n",
    "    mynums = []   # append all your numbers into the variable called mynums[list]\n",
    "    \n",
    "    i = 0\n",
    "    while len(str) > i :  # until the len(num) become more than it had.\n",
    "        num = ' ' # initalize with empty string becoz it will add the each number\n",
    "        sym = str[i]  # each element in the string is considered as symbol and store it in the sym variable\n",
    "        \n",
    "        while '0' <= sym <= '9':    # if sym or symbol contains any values between 0 to 9\n",
    "            \n",
    "            num += sym  # increment the symbols or elements in number \n",
    "            i+= 1\n",
    "            \n",
    "            if len(str) > i:     # until the len(num) become more than it had. condition satisfied\n",
    "                sym = str[i]     # each element in the string is considered as symbol and store it in the sym variable\n",
    "            else:\n",
    "                break\n",
    "        i += 1\n",
    "        \n",
    "        if num !=' ':  # if there is any string or string is not empty\n",
    "            mynums.append(int(num))\n",
    "    return mynums\n",
    "\n",
    "        \n",
    "        \n",
    "str = input('enter the string ')\n",
    "select_integers_from_string(str)"
   ]
  },
  {
   "cell_type": "markdown",
   "metadata": {},
   "source": [
    "34. How to sort words acctording to their length using Bubble sort"
   ]
  },
  {
   "cell_type": "code",
   "execution_count": 50,
   "metadata": {},
   "outputs": [
    {
     "name": "stdout",
     "output_type": "stream",
     "text": [
      "enter the strings a i k \n",
      "a i k s\n"
     ]
    }
   ],
   "source": [
    "def bubble_sort_str(str):\n",
    "    lst = str.split()\n",
    "    for i in range(len(lst)):\n",
    "        for j in range(i):\n",
    "            if lst[i] < lst[j]:\n",
    "                lst[i],lst[j] = lst[j],lst[i]\n",
    "    print(' '.join(lst))\n",
    "str = input('enter the string')\n",
    "bubble_sort_str(str)"
   ]
  },
  {
   "cell_type": "code",
   "execution_count": 51,
   "metadata": {},
   "outputs": [
    {
     "name": "stdout",
     "output_type": "stream",
     "text": [
      "enter the strings a i k\n",
      "a i k s\n"
     ]
    }
   ],
   "source": [
    "def bubble_sort_s(str):\n",
    "    lst = str.split()\n",
    "    for i in range(len(lst)-1,0,-1):\n",
    "        for j in range(i):\n",
    "            if lst[j] > lst[j+1] :\n",
    "                lst[j] , lst[j+1] = lst[j+1], lst[j]\n",
    "    print(' '.join(lst))\n",
    "str = input('enter the string')\n",
    "bubble_sort_s(str)"
   ]
  },
  {
   "cell_type": "code",
   "execution_count": 160,
   "metadata": {},
   "outputs": [
    {
     "name": "stdout",
     "output_type": "stream",
     "text": [
      "enter the strings a i\n",
      "a i s\n"
     ]
    }
   ],
   "source": [
    "def bubble_sort(str):\n",
    "    lst = str.split()\n",
    "    #print(lst) # ['s', 'a', 'i', 'k', 'r', 'i', 's', 'h', 'n', 'a']\n",
    "    for i in range(len(lst)-1):\n",
    "        for j in range(len(lst)-1-i):\n",
    "            if lst[j] > lst[j+1]:\n",
    "                lst[j],lst[j+1] = lst[j+1],lst[j]\n",
    "    print(' '.join(lst))\n",
    "   \n",
    "\n",
    "str = input('enter the string')\n",
    "bubble_sort(str)"
   ]
  },
  {
   "cell_type": "markdown",
   "metadata": {},
   "source": [
    "35. How to find the longest word in a string"
   ]
  },
  {
   "cell_type": "code",
   "execution_count": 109,
   "metadata": {},
   "outputs": [
    {
     "name": "stdout",
     "output_type": "stream",
     "text": [
      "enter the string s a i\n",
      "i\n",
      "s\n"
     ]
    },
    {
     "data": {
      "text/plain": [
       "'s'"
      ]
     },
     "execution_count": 109,
     "metadata": {},
     "output_type": "execute_result"
    }
   ],
   "source": [
    "def longest_word(str):\n",
    "    lst = str.split()\n",
    "    \n",
    "    longest = 0\n",
    "    for i in range(len(lst)):  # 0 1 2 3\n",
    "        if lst[i] > lst[longest]: # s > s\n",
    "            longest = i\n",
    "\n",
    "    return lst[longest]\n",
    "        \n",
    "str = input('enter the string ')\n",
    "longest_word(str)"
   ]
  },
  {
   "cell_type": "markdown",
   "metadata": {},
   "source": [
    "36. How to get percentage of upper and lower case"
   ]
  },
  {
   "cell_type": "code",
   "execution_count": 127,
   "metadata": {},
   "outputs": [
    {
     "name": "stdout",
     "output_type": "stream",
     "text": [
      "enter the stringSaiKriShna\n",
      "lower_percentage :  0.7\n",
      "upper_percentage :  0.3\n"
     ]
    }
   ],
   "source": [
    "def percentage_upper_lower(str):\n",
    "    \n",
    "    l = u = 0\n",
    "    for i in str:\n",
    "        \n",
    "        if 'a' <= i <= 'z':\n",
    "            l += 1\n",
    "        elif 'A' <= i <= 'Z':\n",
    "            u += 1\n",
    "            \n",
    "    print('lower_percentage : ', (l/len(str)))\n",
    "    print('upper_percentage : ', (u/len(str)))\n",
    "str = input('enter the string')\n",
    "percentage_upper_lower(str)"
   ]
  },
  {
   "cell_type": "markdown",
   "metadata": {},
   "source": [
    "37. String Palindrome"
   ]
  },
  {
   "cell_type": "code",
   "execution_count": 149,
   "metadata": {},
   "outputs": [
    {
     "name": "stdout",
     "output_type": "stream",
     "text": [
      "enter the strsaias\n",
      "palindrome\n"
     ]
    }
   ],
   "source": [
    "def palindrome(str):\n",
    "    return str == str[::-1]\n",
    "    \n",
    "\n",
    "str = input('enter the string ')\n",
    "\n",
    "if palindrome(str):\n",
    "    print('palindrome')\n",
    "else:\n",
    "    print('not palindrome')"
   ]
  },
  {
   "cell_type": "code",
   "execution_count": 4,
   "metadata": {},
   "outputs": [
    {
     "name": "stdout",
     "output_type": "stream",
     "text": [
      "enter the stringsaias\n",
      "this is palidrome\n"
     ]
    }
   ],
   "source": [
    "def string_palindrome(str):\n",
    "    \n",
    "    for i in range(len(str) // 2):\n",
    "        if str[i] != str[-1-i]:\n",
    "            print('this is not palindrome')\n",
    "            break\n",
    "    else:\n",
    "        print('this is palidrome')\n",
    "\n",
    "str = input('enter the string')\n",
    "string_palindrome(str)"
   ]
  },
  {
   "cell_type": "markdown",
   "metadata": {},
   "source": [
    "38. Number Palindrome"
   ]
  },
  {
   "cell_type": "code",
   "execution_count": 184,
   "metadata": {},
   "outputs": [
    {
     "name": "stdout",
     "output_type": "stream",
     "text": [
      "enter the number12121\n",
      "palindrome\n"
     ]
    }
   ],
   "source": [
    "def number_palindrome(n):\n",
    "    \n",
    "    a = 0\n",
    "    while n>0:\n",
    "        i = n % 10\n",
    "        a = a*100 + i\n",
    "        n //= 10\n",
    "    return a\n",
    "n = int(input('enter the number'))\n",
    "if number_palindrome(n):\n",
    "    print('palindrome')\n",
    "else:\n",
    "    print('not palindrome')"
   ]
  },
  {
   "cell_type": "markdown",
   "metadata": {},
   "source": [
    "39. Indicies for the number"
   ]
  },
  {
   "cell_type": "code",
   "execution_count": 171,
   "metadata": {},
   "outputs": [
    {
     "name": "stdout",
     "output_type": "stream",
     "text": [
      "0\n",
      "1\n",
      "2\n"
     ]
    }
   ],
   "source": [
    "n = 123\n",
    "count = 0\n",
    "while n>0:\n",
    "    count = count + 1\n",
    "    n //=10\n",
    "for i in range(count):\n",
    "    print(i)\n"
   ]
  },
  {
   "cell_type": "markdown",
   "metadata": {},
   "source": [
    "40. prime numbers"
   ]
  },
  {
   "cell_type": "code",
   "execution_count": 5,
   "metadata": {},
   "outputs": [
    {
     "name": "stdout",
     "output_type": "stream",
     "text": [
      "11\n",
      "13\n",
      "17\n",
      "19\n",
      "23\n",
      "29\n",
      "31\n",
      "37\n",
      "41\n",
      "43\n",
      "47\n"
     ]
    }
   ],
   "source": [
    "def prime_numbers(l,u):\n",
    "    \n",
    "    for i in range(l,u+1):\n",
    "        for j in range(2,i):\n",
    "            \n",
    "            if i%j==0:\n",
    "                break\n",
    "        else:\n",
    "            print(i)\n",
    "prime_numbers(10,50)"
   ]
  },
  {
   "cell_type": "markdown",
   "metadata": {},
   "source": [
    "41. How to generate Random numbers using Array"
   ]
  },
  {
   "cell_type": "code",
   "execution_count": 13,
   "metadata": {},
   "outputs": [
    {
     "name": "stdout",
     "output_type": "stream",
     "text": [
      "84 45 79 83 31 15 13 9 49 96 35 43 100 94 3 95 75 64 29 64 "
     ]
    }
   ],
   "source": [
    "from random import randint\n",
    "\n",
    "n = 20\n",
    "lst = []\n",
    "for i in range(n):\n",
    "    lst.append(randint(1,100))\n",
    "\n",
    "for i in lst:\n",
    "    print(i,end=' ')"
   ]
  },
  {
   "cell_type": "markdown",
   "metadata": {},
   "source": [
    "42. How to get the maximum element in an array"
   ]
  },
  {
   "cell_type": "code",
   "execution_count": 39,
   "metadata": {},
   "outputs": [
    {
     "name": "stdout",
     "output_type": "stream",
     "text": [
      "[10, 13, 89, 24, 87, 2, 10, 86, 96, 24]\n"
     ]
    },
    {
     "data": {
      "text/plain": [
       "96"
      ]
     },
     "execution_count": 39,
     "metadata": {},
     "output_type": "execute_result"
    }
   ],
   "source": [
    "def max_element(lst):\n",
    "    \n",
    "    n = 10\n",
    "    l = []\n",
    "    for i in range(10):\n",
    "        l.append(randint(1,100))\n",
    "    print(l)\n",
    "    \n",
    "    \n",
    "    max = 0\n",
    "    for i in l:\n",
    "        if i > max:\n",
    "            max = i\n",
    "    return max\n",
    "    \n",
    "max_element(lst)"
   ]
  },
  {
   "cell_type": "markdown",
   "metadata": {},
   "source": [
    "43. How to get the minimum element in an array"
   ]
  },
  {
   "cell_type": "code",
   "execution_count": 46,
   "metadata": {},
   "outputs": [
    {
     "name": "stdout",
     "output_type": "stream",
     "text": [
      "[38, 45, 62, 72, 37, 9, 37, 12, 81, 67]\n"
     ]
    },
    {
     "data": {
      "text/plain": [
       "9"
      ]
     },
     "execution_count": 46,
     "metadata": {},
     "output_type": "execute_result"
    }
   ],
   "source": [
    "def min_element(lst):\n",
    "    \n",
    "    n = 10\n",
    "    l = []\n",
    "    for i in range(n):\n",
    "        l.append(randint(1,100))\n",
    "    print(l)\n",
    "    \n",
    "    min = l[0]  # first element in list\n",
    "    for i in l:\n",
    "        if i < min:\n",
    "            min = i\n",
    "    return min\n",
    "min_element(lst)\n",
    "    "
   ]
  },
  {
   "cell_type": "markdown",
   "metadata": {},
   "source": [
    "44. How to get the Number of even and odd numbers in list"
   ]
  },
  {
   "cell_type": "code",
   "execution_count": 68,
   "metadata": {},
   "outputs": [
    {
     "name": "stdout",
     "output_type": "stream",
     "text": [
      "[57, 64, 69, 61, 36, 82, 48, 90, 94, 39]\n",
      "The No of even numbers are 6\n",
      "The No of odd numbers are 4\n"
     ]
    }
   ],
   "source": [
    "def even_odd():\n",
    "    \n",
    "    n = 10\n",
    "    l = []\n",
    "    for i in range(n):\n",
    "        l.append(randint(10,100))\n",
    "    print(l)\n",
    "    \n",
    "    even = 0\n",
    "    odd = 0\n",
    "    for i in l:\n",
    "        if i%2==0:\n",
    "            even += 1\n",
    "        else:\n",
    "            odd += 1\n",
    "    print('The No of even numbers are',even)\n",
    "    print('The No of odd numbers are',odd)\n",
    "\n",
    "even_odd()"
   ]
  },
  {
   "cell_type": "markdown",
   "metadata": {},
   "source": [
    "45. How to get positive and negative numbers"
   ]
  },
  {
   "cell_type": "code",
   "execution_count": 69,
   "metadata": {},
   "outputs": [
    {
     "name": "stdout",
     "output_type": "stream",
     "text": [
      "[55, 60, 40, -3, 75, -9, 66, -74, 3, -1]\n",
      "The number of positive numbers are 6\n",
      "The number of negative numbers are 4\n"
     ]
    }
   ],
   "source": [
    "def pos_neg():\n",
    "    \n",
    "    n= 10\n",
    "    l = []\n",
    "    for i in range(n):\n",
    "        l.append(randint(-100,100))\n",
    "    print(l)\n",
    "    \n",
    "    pos = 0\n",
    "    neg = 0\n",
    "    for i in l:\n",
    "        if i <0 :\n",
    "            neg +=1\n",
    "        elif i >=0:\n",
    "            pos += 1\n",
    "            \n",
    "    print('The number of positive numbers are',pos)\n",
    "    print('The number of negative numbers are',neg)\n",
    "pos_neg()"
   ]
  },
  {
   "cell_type": "code",
   "execution_count": 71,
   "metadata": {},
   "outputs": [
    {
     "name": "stdout",
     "output_type": "stream",
     "text": [
      "[-45, -63, -3, 69, 51, -99, -31, 37, 5, 27]\n",
      "The number of positive numbers are [69, 51, 37, 5, 27]\n",
      "The number of negative numbers are [-45, -63, -3, -99, -31]\n"
     ]
    }
   ],
   "source": [
    "# Fetching the positive and negative list\n",
    "def pos_neg():\n",
    "    \n",
    "    n= 10\n",
    "    l = []\n",
    "    for i in range(n):\n",
    "        l.append(randint(-100,100))\n",
    "    print(l)\n",
    "    \n",
    "    pos = []\n",
    "    neg = []\n",
    "    for i in l:\n",
    "        if i<0:\n",
    "            neg.append(i)\n",
    "        elif i>0:\n",
    "            pos.append(i)\n",
    "    print('The number of positive numbers are',pos)\n",
    "    print('The number of negative numbers are',neg)\n",
    "pos_neg()\n"
   ]
  },
  {
   "cell_type": "markdown",
   "metadata": {},
   "source": [
    "46. How to get numbers greater than the average of an array"
   ]
  },
  {
   "cell_type": "code",
   "execution_count": 108,
   "metadata": {},
   "outputs": [
    {
     "name": "stdout",
     "output_type": "stream",
     "text": [
      "[20.51475110627767, 67.58004226905359, 25.95683243404129, 4.872031574096203, 24.060111629022295, 20.49371327087346, 89.64947419403644, 83.97728185154213, 10.11404687836711, 5.056402460407194, 5.5930067663226835, 9.449456230805254, 16.896876571779874, 67.25203281637818, 85.38663460505896, 71.29177561788555, 59.71202591983313, 83.63355202529144, 24.744604325073016, 14.043980187202077]\n",
      "average 790.2786327333476\n",
      "\n",
      "67.58004226905359\n",
      "89.64947419403644\n",
      "83.97728185154213\n",
      "67.25203281637818\n",
      "85.38663460505896\n",
      "71.29177561788555\n",
      "59.71202591983313\n",
      "83.63355202529144\n"
     ]
    }
   ],
   "source": [
    "import random\n",
    "def greater_num_than_avg():\n",
    "    n = 20\n",
    "    l = []\n",
    "    for i in range(n):\n",
    "        l.append(random.random()*100)\n",
    "    print(l)\n",
    "    \n",
    "    avg = 0\n",
    "    for i in range(n):\n",
    "        avg += l[i]\n",
    "        \n",
    "    print('average',avg)\n",
    "    print()\n",
    "    avg = avg / n\n",
    "    \n",
    "    for i in range(n):\n",
    "        if l[i] > avg:\n",
    "            print(l[i])\n",
    "    \n",
    "greater_num_than_avg()"
   ]
  },
  {
   "cell_type": "markdown",
   "metadata": {},
   "source": [
    "47. How to replace list-items with -1,0,1"
   ]
  },
  {
   "cell_type": "code",
   "execution_count": 116,
   "metadata": {},
   "outputs": [
    {
     "name": "stdout",
     "output_type": "stream",
     "text": [
      "[-2, -7, -5, 7, -1, 0, 8, 3, 4, 10, 7, 5, 0, 2, -4, -1, -5, -8, 9, -4]\n"
     ]
    },
    {
     "data": {
      "text/plain": [
       "[-1, -1, -1, 1, -1, 0, 1, 1, 1, 1, 1, 1, 0, 1, -1, -1, -1, -1, 1, -1]"
      ]
     },
     "execution_count": 116,
     "metadata": {},
     "output_type": "execute_result"
    }
   ],
   "source": [
    "def replace_list_items():\n",
    "    n = 20\n",
    "    l = []\n",
    "    for i in range(n):\n",
    "        l.append(randint(-10,10))\n",
    "    print(l)\n",
    "    \n",
    "    for i in range(len(l)):\n",
    "        \n",
    "        if l[i] > 0:\n",
    "            l[i] = 1\n",
    "        elif l[i] < 0:\n",
    "            l[i] = -1\n",
    "        elif l[i] == 0:\n",
    "            l[i] = 0\n",
    "    return l\n",
    "    \n",
    "replace_list_items()"
   ]
  },
  {
   "cell_type": "markdown",
   "metadata": {},
   "source": [
    "48. How to get Intersection of list using for loop"
   ]
  },
  {
   "cell_type": "code",
   "execution_count": 134,
   "metadata": {},
   "outputs": [
    {
     "data": {
      "text/plain": [
       "[[3, 6, 4], 'tt', 1]"
      ]
     },
     "execution_count": 134,
     "metadata": {},
     "output_type": "execute_result"
    }
   ],
   "source": [
    "def intersection_of_list(x,y):\n",
    "    z = []\n",
    "    for i in x:\n",
    "        for j in y:\n",
    "            if i==j:\n",
    "                z.append(i)\n",
    "    return z\n",
    "x = [6,8,9,10,[3,6,4],'t','tt','u',1]\n",
    "y = [1,2,3,4,[3,6,4],4,'tt']\n",
    "intersection_of_list(x,y)"
   ]
  },
  {
   "cell_type": "markdown",
   "metadata": {},
   "source": [
    "49. Simple intersection of list"
   ]
  },
  {
   "cell_type": "code",
   "execution_count": 141,
   "metadata": {},
   "outputs": [
    {
     "data": {
      "text/plain": [
       "[9, 10, 4, 5]"
      ]
     },
     "execution_count": 141,
     "metadata": {},
     "output_type": "execute_result"
    }
   ],
   "source": [
    "def intersection(lst1, lst2):\n",
    "    \n",
    "    return list(set(lst1) & set(lst2))\n",
    "\n",
    "\n",
    "lst1 = [15, 9, 10, 56, 23, 78, 5, 4, 9] \n",
    "lst2 = [9, 4, 5, 36, 47, 26, 10, 45, 87]\n",
    "intersection(lst1, lst2)"
   ]
  },
  {
   "cell_type": "markdown",
   "metadata": {},
   "source": [
    "50. Bubble_sort of an array"
   ]
  },
  {
   "cell_type": "code",
   "execution_count": 145,
   "metadata": {},
   "outputs": [
    {
     "name": "stdout",
     "output_type": "stream",
     "text": [
      "[25, 14, 40, 78, 31, 83, 70, 87, 97, 59]\n"
     ]
    },
    {
     "data": {
      "text/plain": [
       "[14, 25, 31, 40, 59, 70, 78, 83, 87, 97]"
      ]
     },
     "execution_count": 145,
     "metadata": {},
     "output_type": "execute_result"
    }
   ],
   "source": [
    "def bubble():\n",
    "    n = 10\n",
    "    l = []\n",
    "    for i in range(n):\n",
    "        l.append(randint(10,100))\n",
    "    print(l)\n",
    "    \n",
    "    for i in range(len(l)-1,0,-1):\n",
    "        for j in range(i):\n",
    "            if l[j] > l[j+1]:\n",
    "                l[j],l[j+1]= l[j+1],l[j]\n",
    "    return l\n",
    "bubble()"
   ]
  },
  {
   "cell_type": "markdown",
   "metadata": {},
   "source": [
    "51 Selection sort of an array"
   ]
  },
  {
   "cell_type": "code",
   "execution_count": 159,
   "metadata": {},
   "outputs": [
    {
     "name": "stdout",
     "output_type": "stream",
     "text": [
      "[24, 89, 47, 48, 41, 47, 84, 95, 95, 59]\n"
     ]
    },
    {
     "data": {
      "text/plain": [
       "[24, 41, 47, 47, 48, 59, 84, 89, 95, 95]"
      ]
     },
     "execution_count": 159,
     "metadata": {},
     "output_type": "execute_result"
    }
   ],
   "source": [
    "def selection_sort():\n",
    "    n = 10\n",
    "    l = []\n",
    "    for i in range(n):\n",
    "        l.append(randint(10,100))\n",
    "    print(l)\n",
    "    \n",
    "    \n",
    "    for i in range(len(l)):\n",
    "        minpos = i\n",
    "        for j in range(i, len(l)):\n",
    "            if l[j] < l[minpos]:\n",
    "                l[j], l[minpos] = l[minpos] , l[j]\n",
    "    return l\n",
    "selection_sort()"
   ]
  },
  {
   "cell_type": "markdown",
   "metadata": {},
   "source": [
    "52. How to generate matrix of random numbers"
   ]
  },
  {
   "cell_type": "code",
   "execution_count": 203,
   "metadata": {},
   "outputs": [
    {
     "data": {
      "text/plain": [
       "[[5, 7, 4, 6, 7, 9, 4, 1, 4, 3, 7, 8],\n",
       " [3, 7, 2, 10, 3, 6, 5, 2, 9, 10, 5, 4],\n",
       " [10, 8, 6, 6, 2, 5, 2, 7, 4, 1, 7, 8],\n",
       " [9, 5, 7, 7, 1, 7, 1, 1, 7, 9, 4, 9],\n",
       " [8, 4, 6, 4, 5, 4, 2, 7, 4, 7, 8, 8],\n",
       " [1, 8, 5, 9, 7, 2, 5, 4, 1, 10, 1, 2]]"
      ]
     },
     "execution_count": 203,
     "metadata": {},
     "output_type": "execute_result"
    }
   ],
   "source": [
    "def generate_random_number():\n",
    "    rows = 6\n",
    "    columns = 12\n",
    "    \n",
    "    x = []\n",
    "    for i in range(rows):  # 6 rows\n",
    "        y = []\n",
    "        for j in range(columns):   # 10 columns\n",
    "            y.append(randint(1,10))\n",
    "        x.append(y)\n",
    "        \n",
    "    return x\n",
    "    \n",
    "generate_random_number()"
   ]
  },
  {
   "cell_type": "code",
   "execution_count": 202,
   "metadata": {},
   "outputs": [
    {
     "name": "stdout",
     "output_type": "stream",
     "text": [
      "[[0, 1, 2, 3, 4, 5, 6, 7, 8, 9, 10, 11], [0, 1, 2, 3, 4, 5, 6, 7, 8, 9, 10, 11], [0, 1, 2, 3, 4, 5, 6, 7, 8, 9, 10, 11], [0, 1, 2, 3, 4, 5, 6, 7, 8, 9, 10, 11], [0, 1, 2, 3, 4, 5, 6, 7, 8, 9, 10, 11], [0, 1, 2, 3, 4, 5, 6, 7, 8, 9, 10, 11]]\n"
     ]
    }
   ],
   "source": [
    " # Example for understanding\n",
    "l = []\n",
    "for i in range(6):\n",
    "    m = []\n",
    "    for j in range(12):\n",
    "        m.append(j)  # [0, 1, 2, 3, 4, 5, 6, 7, 8, 9, 10, 11]\n",
    "        \n",
    "        #l.append(j)  # [0, 1, 2, 3, 4, 5, 6, 7, 8, 9, 10, 11,\n",
    "        #0, 1, 2, 3, 4, 5, 6, 7, 8, 9, 10, 11,\n",
    "        #0, 1, 2, 3, 4, 5, 6, 7, 8, 9, 10, 11, \n",
    "        #0, 1, 2, 3, 4, 5, 6, 7, 8, 9, 10, 11,\n",
    "        #0, 1, 2, 3, 4, 5, 6, 7, 8, 9, 10, 11, \n",
    "        #0, 1, 2, 3, 4, 5, 6, 7, 8, 9, 10, 11]\n",
    "    l.append(m)\n",
    "        \n",
    "print(l)\n",
    "\n"
   ]
  },
  {
   "cell_type": "markdown",
   "metadata": {},
   "source": [
    "53. Create fibonacci using recursion"
   ]
  },
  {
   "cell_type": "code",
   "execution_count": 222,
   "metadata": {},
   "outputs": [
    {
     "name": "stdout",
     "output_type": "stream",
     "text": [
      "0\n",
      "1\n",
      "1\n",
      "2\n",
      "3\n",
      "5\n",
      "8\n",
      "13\n",
      "21\n",
      "34\n",
      "55\n",
      "89\n"
     ]
    }
   ],
   "source": [
    "def fib(n):\n",
    "    if n<=1:\n",
    "        return n\n",
    "    return fib(n-1)+fib(n-2)\n",
    "\n",
    "n = 12\n",
    "for i in range(n):\n",
    "    print(fib(i))"
   ]
  },
  {
   "cell_type": "markdown",
   "metadata": {},
   "source": [
    "54. Factorial using recursion"
   ]
  },
  {
   "cell_type": "code",
   "execution_count": 226,
   "metadata": {},
   "outputs": [
    {
     "data": {
      "text/plain": [
       "120"
      ]
     },
     "execution_count": 226,
     "metadata": {},
     "output_type": "execute_result"
    }
   ],
   "source": [
    "def fact(n):\n",
    "    if n ==0:\n",
    "        return 1\n",
    "    return n * fact(n-1)\n",
    "fact(5)"
   ]
  },
  {
   "cell_type": "markdown",
   "metadata": {},
   "source": [
    "55. How to get the L.C.M (least common multiple)"
   ]
  },
  {
   "cell_type": "code",
   "execution_count": null,
   "metadata": {},
   "outputs": [],
   "source": [
    "73"
   ]
  },
  {
   "cell_type": "markdown",
   "metadata": {},
   "source": [
    "56. How to reverse Word sequence"
   ]
  },
  {
   "cell_type": "code",
   "execution_count": 228,
   "metadata": {},
   "outputs": [
    {
     "name": "stdout",
     "output_type": "stream",
     "text": [
      "enter the stringsaikrishna\n"
     ]
    },
    {
     "data": {
      "text/plain": [
       "'anhsirkias'"
      ]
     },
     "execution_count": 228,
     "metadata": {},
     "output_type": "execute_result"
    }
   ],
   "source": [
    "def reverse_string(str):\n",
    "    return str[::-1]\n",
    "str = input('enter the string')\n",
    "reverse_string(str)"
   ]
  },
  {
   "cell_type": "markdown",
   "metadata": {},
   "source": [
    "57. Binary Search"
   ]
  },
  {
   "cell_type": "code",
   "execution_count": 265,
   "metadata": {},
   "outputs": [
    {
     "name": "stdout",
     "output_type": "stream",
     "text": [
      "[1, 3, 4, 5, 6, 7, 9]\n",
      "found at 4\n"
     ]
    }
   ],
   "source": [
    "def binary_search(lst,n):\n",
    "    l = 0\n",
    "    u = len(lst)\n",
    "    for i in range(l,u):\n",
    "        mid = (l+u)//2\n",
    "        if lst[mid] == n:\n",
    "            print('found at',mid)\n",
    "            break\n",
    "        elif lst[mid] < n:\n",
    "            l = mid\n",
    "        else:\n",
    "            u = mid\n",
    "    else:\n",
    "        print('not found')\n",
    "def selection_sort(lst):\n",
    "    for i in range(len(lst)):\n",
    "        minpos = i\n",
    "        for j in range(i, len(lst)):\n",
    "            if lst[j] < lst[minpos]:\n",
    "                lst[j] , lst[minpos] = lst[minpos] , lst[j]\n",
    "    return lst\n",
    "lst = [3,1,5,9,4,6,7]\n",
    "lst = selection_sort(lst)\n",
    "print(lst)\n",
    "binary_search(lst,6)"
   ]
  }
 ],
 "metadata": {
  "kernelspec": {
   "display_name": "Python 3",
   "language": "python",
   "name": "python3"
  },
  "language_info": {
   "codemirror_mode": {
    "name": "ipython",
    "version": 3
   },
   "file_extension": ".py",
   "mimetype": "text/x-python",
   "name": "python",
   "nbconvert_exporter": "python",
   "pygments_lexer": "ipython3",
   "version": "3.7.4"
  }
 },
 "nbformat": 4,
 "nbformat_minor": 2
}
